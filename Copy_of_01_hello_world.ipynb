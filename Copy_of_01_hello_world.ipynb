{
  "nbformat": 4,
  "nbformat_minor": 0,
  "metadata": {
    "colab": {
      "private_outputs": true,
      "provenance": [],
      "toc_visible": true,
      "include_colab_link": true
    },
    "kernelspec": {
      "name": "python3",
      "display_name": "Python 3"
    }
  },
  "cells": [
    {
      "cell_type": "markdown",
      "metadata": {
        "id": "view-in-github",
        "colab_type": "text"
      },
      "source": [
        "<a href=\"https://colab.research.google.com/github/victorejigah/victorejigah/blob/main/Copy_of_01_hello_world.ipynb\" target=\"_parent\"><img src=\"https://colab.research.google.com/assets/colab-badge.svg\" alt=\"Open In Colab\"/></a>"
      ]
    },
    {
      "cell_type": "markdown",
      "metadata": {
        "id": "uWu-sC6N_1ie"
      },
      "source": [
        "**Hello, World!**\n",
        "\n",
        "_Ada Build - Intro to Python - Lesson 1_"
      ]
    },
    {
      "cell_type": "markdown",
      "metadata": {
        "id": "IteFXUcRH5un"
      },
      "source": [
        "# Learning Goals\n",
        "By the end of this lesson we will be able to:\n",
        "* Use **Colab** notebooks to write and execute Python code.\n",
        "* Articulate the difference between code cells and text cells.\n",
        "* Use keyboard shortcuts to interact with code.\n",
        "* Use the Google comment feature to take notes.\n",
        "* Understand how [repl.it](https://repl.it/) will be used in Ada Build.\n",
        "* Understand and use the `print` function."
      ]
    },
    {
      "cell_type": "markdown",
      "metadata": {
        "id": "sd6upOU_RQ01"
      },
      "source": [
        "# Google Colab\n",
        "\n",
        "For the _Learning to Code_ portion of the Ada Build Curriculum we will review notes and complete exercises in a series of lessons in **Google Colab**. Colab is Google's hosting of Jupyter Notebook, an open-source web application that allows us to create and share documents that contain live code, equations, visualizations, and narrative text. Uses for Jupyter Notebook include: data cleaning and transformation, numerical simulation, statistical modeling, data visualization, machine learning, and much more. Here we are using Colab and Jupyter Notebook to create an interactive _Intro to Python_ course.\n",
        "\n",
        "_You can click on the link to view [a video introduction to Colab](https://adaacademy.hosted.panopto.com/Panopto/Pages/Viewer.aspx?id=6f137996-88f0-490a-9e94-acb10170c7dd)._"
      ]
    },
    {
      "cell_type": "markdown",
      "metadata": {
        "id": "GhOOrUgDfAaJ"
      },
      "source": [
        "## Saving our Colab notebook\n",
        "\n",
        "In order to save changes we make in a **Colab** notebook and enable the ability to add comments, we will need a [Google account](https://support.google.com/accounts/answer/27441?hl=en).\n",
        "\n",
        "We should save a copy of every notebook we open to our own **Google Drive**. If we do not, any code changes will be lost when we close the notebook.\n",
        "\n",
        "To make a copy we can either:\n",
        "1. Open the **File** menu and select **Save a copy in Drive**.\n",
        "\n",
        "2. Click the `Save to Drive` button next to `+Code` and `+Text` at the top of this notebook.\n",
        "\n",
        "The copied notebook will open and we will be able to preserve our code changes.\n",
        "\n",
        "*Colab* notebooks default to saving in the folder *Colab Notebooks*, but we can organize them however we'd like within Google Drive."
      ]
    },
    {
      "cell_type": "markdown",
      "metadata": {
        "id": "LFs6EUaIRaca"
      },
      "source": [
        "## Text Cells\n",
        "\n",
        "This is a text cell. It's written in a markup language called _markdown_. Double click and notice the options for formatting. For the most part, we won't need to edit text cells. Text cells are used to deliver content for us to review."
      ]
    },
    {
      "cell_type": "markdown",
      "metadata": {
        "id": "-NxMOUzFRVt_"
      },
      "source": [
        "## Code Cells\n",
        "\n",
        "The cell below is a code cell. We'll be completing programming exercises in the code cells."
      ]
    },
    {
      "cell_type": "code",
      "metadata": {
        "id": "1Fs7ed67ReqA"
      },
      "source": [
        "# press the play button on the left side of this cell to see a code cell in action\n",
        "5+5"
      ],
      "execution_count": null,
      "outputs": []
    },
    {
      "cell_type": "markdown",
      "metadata": {
        "id": "gODzx_tJ969l"
      },
      "source": [
        "## Table of Contents\n",
        "\n",
        "You can navigate around the lesson using the Table of contents on the left hand side. This table can be viewed and hidden to optimize your programming environment."
      ]
    },
    {
      "cell_type": "markdown",
      "metadata": {
        "id": "13XOB41yIPXG"
      },
      "source": [
        "# Hello, World!\n",
        "\n",
        "A _Hello World_ program is the first program that people often write when exploring a new programming language. In this lesson we will write a hello world program in a _code block_ in this **Colab** notebook."
      ]
    },
    {
      "cell_type": "markdown",
      "metadata": {
        "id": "Sv2M5OgoLzbj"
      },
      "source": [
        "## Steps\n",
        "* Read about the history of [\"hello, world\"](https://en.wikipedia.org/wiki/%22Hello,_World!%22_program)\n",
        "* Write and execute a hello world program in the empty code cell below.\n",
        "  - Type `print(\"Hello, World\")` in the code cell below.\n",
        "  - Click the play button that will appear when we hover over the brackets `[ ]`."
      ]
    },
    {
      "cell_type": "code",
      "metadata": {
        "id": "vPfkGm5jMtHW"
      },
      "source": [
        "print('Hello, World')"
      ],
      "execution_count": null,
      "outputs": []
    },
    {
      "cell_type": "markdown",
      "metadata": {
        "id": "EcGFo9CfO4gY"
      },
      "source": [
        "## What is [`print`](https://docs.python.org/3/library/functions.html#print)?\n",
        "\n",
        "`print` is a _function_ that prints the specified _argument_ to the screen. For the code we just wrote `print(\"Hello, World\")` the _argument_ is the _string_ `\"Hello, World\"`. A _string_ is any collection of characters enclosed with quotation marks `\" \"`. In Python, _functions_ are invoked using parentheses `()` with zero or more arguments inside. We'll talk more about strings and functions soon."
      ]
    },
    {
      "cell_type": "markdown",
      "metadata": {
        "id": "-HxtNkh28qct"
      },
      "source": [
        "# Keyboard Shortcuts"
      ]
    },
    {
      "cell_type": "markdown",
      "metadata": {
        "id": "TUn5WlHtRnKV"
      },
      "source": [
        "### Uncomment, Execute, Re-comment\n",
        "In this curriculum, we will encounter code blocks with several lines of code that we will uncomment, execute, and re-comment in order to observe the effects of several related instructions. Doing this repeatedly using a mouse (or trackpad) can be tedious. But there's a better way: keyboard shortcuts!\n",
        "\n",
        "Professional developers minimize their use of the mouse (trackpad) as much as possible. Keyboard navigation is much more predictable and precise, which allows us to express our ideas in code much more fluidly, and to make edits to existing code faster, and with more confidence. While we don't need to use keyboard shortcuts exclusively yet &mdash; even professional developers will still use the mouse occasionally &mdash; it's a good idea to start getting used to them as soon as possible. The more we use them, the more habitual they become.\n",
        "\n",
        "Let's consider the code block below while reading about some simple shortcuts we can use in Colab. Be sure to try them out as we read about each shortcut!"
      ]
    },
    {
      "cell_type": "code",
      "metadata": {
        "id": "wGBmJGQURpIY"
      },
      "source": [
        "# This line is a comment. It starts with #.\n",
        "# Python ignores comments. They are usually used by programmers to provide context to other programmers.\n",
        "# We can also use them to temporarily prevent Python from running certain lines of code.\n",
        "# More information about comments is provided later in this curriculum.\n",
        "\n",
        "print(\"Hello World!\")\n",
        "print(42)\n",
        "print(5 + 6)"
      ],
      "execution_count": null,
      "outputs": []
    },
    {
      "cell_type": "markdown",
      "metadata": {
        "id": "XFzBbvE2R5M3"
      },
      "source": [
        "#### Moving the Cursor &mdash; Arrow Keys\n",
        "Once we have clicked on a code block, a text cursor (also called a caret) will appear. We can move the cursor around the code block by using the arrow keys."
      ]
    },
    {
      "cell_type": "markdown",
      "metadata": {
        "id": "jOViA2hgR-DP"
      },
      "source": [
        "#### Comment and Uncomment &mdash; Command Slash\n",
        "With the cursor anywhere on a line of code, we can turn the whole line into a comment by pressing `⌘` and `/` at the same time (`Ctrl` and `/` on Windows). This is usually just written as `⌘/` or `⌘+/`. If we are on a line which is already a comment, `⌘/` will remove the comment mark. We can toggle between a comment and not a comment by repeatedly pressing `⌘/`."
      ]
    },
    {
      "cell_type": "markdown",
      "metadata": {
        "id": "ggs_CkQhSAMC"
      },
      "source": [
        "#### Execute Code in a Block &mdash; Command Return\n",
        "To run (or re-run) a code block, we can press `⌘` and `Enter` (or `Return`) at the same time (`Ctrl` and `Enter` on Windows)."
      ]
    },
    {
      "cell_type": "markdown",
      "metadata": {
        "id": "lG63bVL9SBu3"
      },
      "source": [
        "#### Try it out\n",
        "In the previous code block, try to uncomment, execute, and re-comment each line of code using just keyboard shortcuts. Notice how much faster it is than moving the mouse to a comment symbol, pressing delete, moving to and clicking the play button, moving back to the start of the line and typing a comment symbol, then moving on to the next line. It may not seem like a lot, but we do operations like this all the time while writing code, so even small efficiencies can really add up over time!"
      ]
    },
    {
      "cell_type": "markdown",
      "metadata": {
        "id": "_7l2QJNFXPem"
      },
      "source": [
        "# Python REPL\n",
        "Python provides an interactive computer program that allows the user to enter Python code and get results of that code immediately. It is a feature known as a REPL (read, evaluate, print loop). These kinds of programs are great for trying out new commands, practicing syntax, and evaluating solutions to small problems. It's one of the two primary ways to use Python to interact with a computer. The other is to put Python code into a file and then ask the computer to read and execute the code in the file. We will do lots of both.\n",
        "\n",
        "We will provide solutions for some of the exercises in Ada Build - Introduction to Programming in Python in [repl.it](https://repl.it/).\n",
        "\n",
        "We will also provide livecode video solutions for some of the exercises."
      ]
    },
    {
      "cell_type": "markdown",
      "metadata": {
        "id": "BCd8G6xjQqZn"
      },
      "source": [
        "# Reflect\n",
        "\n",
        "Take a moment to run the two code blocks below.\n",
        "- What do you notice?\n",
        "- What do you wonder?"
      ]
    },
    {
      "cell_type": "code",
      "metadata": {
        "id": "OlVepEX0QT6I"
      },
      "source": [
        "print(\"Welcome to Ada!\")\n",
        "print(\"We're so glad you're here.\")"
      ],
      "execution_count": null,
      "outputs": []
    },
    {
      "cell_type": "code",
      "metadata": {
        "id": "f4FXirMEQC2f"
      },
      "source": [
        "print(\"Welcome to Ada!\\nWe're so glad you're here.\")"
      ],
      "execution_count": null,
      "outputs": []
    },
    {
      "cell_type": "markdown",
      "metadata": {
        "id": "eR-gz7u8QyEt"
      },
      "source": [
        "You can record your thoughts and questions using the _Comment_ feature provided by _Google Drive_.\n",
        "\n",
        "![comment](https://drive.google.com/uc?id=1pbnhyqbgsQA4iyKJeTldAT5cFnjk_kFA)"
      ]
    },
    {
      "cell_type": "markdown",
      "metadata": {
        "id": "4mAjfY6KRzna"
      },
      "source": [
        "And that's all we need to know for now. Onward!"
      ]
    }
  ]
}